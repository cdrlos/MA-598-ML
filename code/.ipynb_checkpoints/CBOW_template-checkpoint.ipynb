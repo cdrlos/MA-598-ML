{
 "cells": [
  {
   "cell_type": "markdown",
   "metadata": {
    "colab_type": "text",
    "id": "JNvHnPk21XNZ"
   },
   "source": [
    "## CBOW Assignment\n",
    "\n",
    "Team member names:  \n",
    "\n",
    "Complete all of the sections as described below.   Then run all, print to pdf using Chrome, and submit on Gradescope (indicating on your submission the start of each part of the assignment and choosing your team members)."
   ]
  },
  {
   "cell_type": "code",
   "execution_count": 1,
   "metadata": {
    "colab": {
     "base_uri": "https://localhost:8080/",
     "height": 50
    },
    "colab_type": "code",
    "executionInfo": {
     "elapsed": 1737,
     "status": "ok",
     "timestamp": 1552001663538,
     "user": {
      "displayName": "Gregery T Buzzard",
      "photoUrl": "https://lh6.googleusercontent.com/-wsbJkMRzkiI/AAAAAAAAAAI/AAAAAAAAADk/SiV0nNoXynw/s64/photo.jpg",
      "userId": "14140499485883029775"
     },
     "user_tz": 300
    },
    "id": "dA0j7Z06QBRc",
    "outputId": "5f00c2f6-b9b1-4a31-8cfd-d45314001b10"
   },
   "outputs": [
    {
     "name": "stderr",
     "output_type": "stream",
     "text": [
      "Using TensorFlow backend.\n"
     ]
    },
    {
     "data": {
      "text/plain": [
       "'2.2.4'"
      ]
     },
     "execution_count": 1,
     "metadata": {},
     "output_type": "execute_result"
    }
   ],
   "source": [
    "import keras\n",
    "keras.__version__"
   ]
  },
  {
   "cell_type": "markdown",
   "metadata": {
    "colab_type": "text",
    "id": "NAUPA-HzQBRt"
   },
   "source": [
    "## Continuous bag of words (CBOW) embedding\n",
    "\n",
    "\n",
    "We'll learn a word embedding using the CBOW framework as described in section 4.2 of <a href=\"https://cs224d.stanford.edu/lecture_notes/notes1.pdf\">these notes</a>.  \n",
    "\n",
    "The word corpus will be the \"IMDB dataset\", a set of 50,000 highly-polarized reviews from the Internet Movie Database. The following code loads the dataset and sets a few parameters for use later.   "
   ]
  },
  {
   "cell_type": "code",
   "execution_count": 2,
   "metadata": {
    "colab": {},
    "colab_type": "code",
    "id": "mbpCPjrwQBRv"
   },
   "outputs": [],
   "source": [
    "from keras.datasets import imdb\n",
    "\n",
    "V = 5000 # vocabulary size\n",
    "num_reviews = 5000 # number of reviews to use during training\n",
    "num_test = 200 # number of reviews to use during testing and validation\n",
    "dim = 20 # embedding dimension\n",
    "window_size = 2\n",
    "\n",
    "\n",
    "(train_data_full, train_labels_full), (test_data_full, test_labels_full) = imdb.load_data(num_words=V)\n",
    "\n",
    "train_data = train_data_full[0:num_reviews]\n",
    "test_data = test_data_full[0:num_test]\n",
    "val_data = test_data_full[num_test:2*num_test]"
   ]
  },
  {
   "cell_type": "markdown",
   "metadata": {
    "colab_type": "text",
    "id": "2R5D7xCWQBR0"
   },
   "source": [
    "\n",
    "The argument `num_words=V` means that we will only keep the top V most frequently occurring words in the training data. Rare words \n",
    "will be discarded. This allows us to work with vector data of manageable size.\n",
    "\n",
    "The variables `train_data` and `test_data` are lists of reviews, each review being a list of word indices (encoding a sequence of words). \n",
    "`train_labels` and `test_labels` are lists of 0s and 1s, where 0 stands for \"negative\" and 1 stands for \"positive\".  The labels will not be used for this assignment. "
   ]
  },
  {
   "cell_type": "markdown",
   "metadata": {
    "colab_type": "text",
    "id": "2_oOc6zEDlR8"
   },
   "source": [
    "Here's some code to decode back to English words:"
   ]
  },
  {
   "cell_type": "code",
   "execution_count": 3,
   "metadata": {
    "colab": {},
    "colab_type": "code",
    "id": "1O5lSPXpQBR9"
   },
   "outputs": [],
   "source": [
    "class WordIndexManager:\n",
    "  def __init__(self, word_index = []):\n",
    "    self.word_index = word_index\n",
    "    self.reverse_word_index = []\n",
    "    \n",
    "    if not (word_index == []): # Reverse the, mapping integer indices to words\n",
    "      self.reverse_word_index = dict([(value, key) for (key, value) in word_index.items()])\n",
    "\n",
    "  def ind_to_string(self, word_ind):\n",
    "    # Decode a word; note that our indices were offset by 3\n",
    "    # because 0, 1 and 2 are reserved indices for \"padding\", \"start of sequence\", and \"unknown\".\n",
    "    return self.reverse_word_index.get(word_ind - 3, '?')\n",
    "\n",
    "  def inds_to_string(self, word_inds):  \n",
    "    # Put a list of decoded words into a string\n",
    "    decoded_review = ' '.join([self.ind_to_string(i) for i in word_inds])\n",
    "    return decoded_review\n",
    "\n",
    "  def create_word_list(self, word_inds):\n",
    "    word_list = []\n",
    "    for ind in word_inds:\n",
    "      word_list.append(self.ind_to_string(ind))\n",
    "    return word_list\n",
    "  \n",
    "# word_index is a dictionary mapping words to an integer index\n",
    "# We create an instance of a class to manage this index\n",
    "WIM = WordIndexManager(imdb.get_word_index())"
   ]
  },
  {
   "cell_type": "markdown",
   "metadata": {
    "colab_type": "text",
    "id": "ZO9r11P8A__v"
   },
   "source": [
    "## TODO:  \n",
    "Use the code above to print the entire first review (index 0) and also to print the 2nd word (index 1) in the first review."
   ]
  },
  {
   "cell_type": "code",
   "execution_count": 50,
   "metadata": {
    "colab": {},
    "colab_type": "code",
    "id": "kB907r5cA_TV"
   },
   "outputs": [
    {
     "data": {
      "text/plain": [
       "[[1, 2], [3, 4]]"
      ]
     },
     "execution_count": 50,
     "metadata": {},
     "output_type": "execute_result"
    }
   ],
   "source": [
    "# print the entire first review\n",
    "WIM.create_word_list(train_data[0])\n",
    "# print the second word of the first review\n",
    "WIM.create_word_list(train_data[0])[1]\n",
    "# ** YOUR CODE HERE **\n"
   ]
  },
  {
   "cell_type": "markdown",
   "metadata": {
    "colab_type": "text",
    "id": "eDXFjg4DQBSC"
   },
   "source": [
    "## TODO:\n",
    "\n",
    "Print the top 20 most common words.  Print them in a table form as in:\n",
    "\n",
    "| Index      | Count | Word    |\n",
    "| :---    |    :----:      |    ---: |\n",
    "| 2      | 122808  |    ?   |\n",
    "| ... | ... |  ...|\n",
    "\n",
    "\n",
    "\n"
   ]
  },
  {
   "cell_type": "code",
   "execution_count": 55,
   "metadata": {
    "colab": {},
    "colab_type": "code",
    "id": "RnuHfHVNQBSE"
   },
   "outputs": [
    {
     "name": "stdout",
     "output_type": "stream",
     "text": [
      "╒═════════╤═════════╤════════╕\n",
      "│   Index │   Count │ Word   │\n",
      "╞═════════╪═════════╪════════╡\n",
      "│       4 │       0 │ the    │\n",
      "├─────────┼─────────┼────────┤\n",
      "│       5 │       0 │ and    │\n",
      "├─────────┼─────────┼────────┤\n",
      "│       6 │       0 │ a      │\n",
      "├─────────┼─────────┼────────┤\n",
      "│       7 │       0 │ of     │\n",
      "├─────────┼─────────┼────────┤\n",
      "│       8 │       0 │ to     │\n",
      "├─────────┼─────────┼────────┤\n",
      "│       9 │       0 │ is     │\n",
      "├─────────┼─────────┼────────┤\n",
      "│      10 │       0 │ br     │\n",
      "├─────────┼─────────┼────────┤\n",
      "│      11 │       0 │ in     │\n",
      "├─────────┼─────────┼────────┤\n",
      "│      12 │       0 │ it     │\n",
      "├─────────┼─────────┼────────┤\n",
      "│      13 │       0 │ i      │\n",
      "├─────────┼─────────┼────────┤\n",
      "│      14 │       0 │ this   │\n",
      "├─────────┼─────────┼────────┤\n",
      "│      15 │       0 │ that   │\n",
      "├─────────┼─────────┼────────┤\n",
      "│      16 │       0 │ was    │\n",
      "├─────────┼─────────┼────────┤\n",
      "│      17 │       0 │ as     │\n",
      "├─────────┼─────────┼────────┤\n",
      "│      18 │       0 │ for    │\n",
      "├─────────┼─────────┼────────┤\n",
      "│      19 │       0 │ with   │\n",
      "├─────────┼─────────┼────────┤\n",
      "│      20 │       0 │ movie  │\n",
      "├─────────┼─────────┼────────┤\n",
      "│      21 │       0 │ but    │\n",
      "├─────────┼─────────┼────────┤\n",
      "│      22 │       0 │ film   │\n",
      "╘═════════╧═════════╧════════╛\n"
     ]
    }
   ],
   "source": [
    "import numpy as np\n",
    "\n",
    "# ** YOUR CODE HERE **\n",
    "from tabulate import tabulate\n",
    "headers = [\"Index\", \"Count\", \"Word\"]\n",
    "M = [[]]\n",
    "for i in range(4,24):\n",
    "    M += [[i,0,WIM.ind_to_string(i)]]\n",
    "m = np.array(M[1:-1])\n",
    "table = tabulate(m, headers, tablefmt=\"fancy_grid\")\n",
    "print(table)"
   ]
  },
  {
   "cell_type": "markdown",
   "metadata": {
    "colab_type": "text",
    "id": "nNttP6i-QBSY"
   },
   "source": [
    "## Preparing the data\n",
    "\n",
    "\n",
    "We cannot feed lists of integers into a neural network. We have to turn our lists into tensors. This is done with a data generator.  To use the data generator, call the function to get an instance of the generator, then iterate on that instance.  E.g.,\n",
    "\n",
    "```\n",
    "data_gen = generate_data(input_data, window_size, vocab_size, batch_size)\n",
    "for x,y in data_gen:\n",
    "    do something\n",
    "```\n",
    "\n",
    "\n",
    "##TODO: \n",
    "Create a data generator that takes in train_data, window_size, vocab_size, and batch size as above and returns\n",
    "\n",
    "x: a tensor of size \n",
    "```\n",
    "(batch_size,  2*window_size, vocab_size).\n",
    "```\n",
    "Each vector x[i,j,:] is a one-hot encoding of one of the neighbor words of the central word\n",
    "\n",
    "y: a tensor of size \n",
    "```\n",
    "(batch_size, vocab_size).\n",
    "```\n",
    "Each vector y[i,:] is a one-hot encoding of the central word.  \n",
    "\n",
    "You may shuffle the order of the reviews if you like, except the first review (index 0) should be left in place.  \n",
    "\n",
    "Your generator should loop infinitely.  Each time through the loop should lead to \n",
    "\n",
    "```\n",
    "yield (x, y)\n",
    "```"
   ]
  },
  {
   "cell_type": "code",
   "execution_count": 0,
   "metadata": {
    "colab": {},
    "colab_type": "code",
    "id": "NcRFyx5HQBSa"
   },
   "outputs": [],
   "source": [
    "import numpy as np\n",
    "from keras.utils import np_utils\n",
    "from keras.models import Sequential\n",
    "from keras.layers import Dense, Embedding, Lambda\n",
    "import keras.backend as K\n",
    "from keras.preprocessing import sequence\n",
    "\n",
    "\n",
    "## Assignment 2 generator\n",
    "# def generator(data, lookback, delay, min_index, max_index,\n",
    "#               shuffle=False, batch_size=128, step=6):\n",
    "#     if max_index is None:\n",
    "#         max_index = len(data) - delay - 1\n",
    "#     i = min_index + lookback\n",
    "#     while 1:\n",
    "#         if shuffle:\n",
    "#             rows = np.random.randint(\n",
    "#                 min_index + lookback, max_index, size=batch_size)\n",
    "#         else:\n",
    "#             if i + batch_size >= max_index:\n",
    "#                 i = min_index + lookback\n",
    "#             rows = np.arange(i, min(i + batch_size, max_index))\n",
    "#             i += len(rows)\n",
    "\n",
    "#         samples = np.zeros((len(rows),\n",
    "#                            lookback // step,\n",
    "#                            data.shape[-1]))\n",
    "#         targets = np.zeros((len(rows),))\n",
    "#         for j, row in enumerate(rows):\n",
    "#             indices = range(rows[j] - lookback, rows[j], step)\n",
    "#             samples[j] = data[indices]\n",
    "#             targets[j] = data[rows[j] + delay][1]\n",
    "#         yield samples, targets\n",
    "\n",
    "def generate_data(corpus, window_size, V, batch_size=16):\n",
    "    x = np.array()\n",
    "    y = np.array()\n",
    "    yield(x, y)\n",
    "  # ** YOUR CODE HERE **         \n",
    "            "
   ]
  },
  {
   "cell_type": "markdown",
   "metadata": {
    "colab_type": "text",
    "id": "bSaVMlnEhCH5"
   },
   "source": [
    "## TODO:  \n",
    "Verify your work by running the code below.  It should work without modification given the data generator you've written.  The final line should be \n",
    "\n",
    "\n",
    "```\n",
    "film was brilliant casting :  just \n",
    "```\n",
    "\n"
   ]
  },
  {
   "cell_type": "code",
   "execution_count": 0,
   "metadata": {
    "colab": {},
    "colab_type": "code",
    "id": "4DPI1_ztZG9c"
   },
   "outputs": [],
   "source": [
    "window_size = 2\n",
    "train_gen = generate_data(train_data, window_size, V)\n",
    "val_gen = generate_data(val_data, window_size, V)\n",
    "test_gen = generate_data(test_data, window_size, V)\n",
    "\n",
    "for bow, output in train_gen:\n",
    "  for i in range(5):\n",
    "    for k in range(bow.shape[1]):\n",
    "        ind = np.nonzero(bow[i,k,:])[0][0]\n",
    "        print(WIM.ind_to_string(ind) + ' ', end=\"\")\n",
    "    ind = np.nonzero(output[i,:])[0][0]\n",
    "    print(':  ' + WIM.ind_to_string(ind) + ' ')\n",
    "  break"
   ]
  },
  {
   "cell_type": "markdown",
   "metadata": {
    "colab_type": "text",
    "id": "A4kFCkil_qWf"
   },
   "source": [
    "Here we create a function to save the embedding weights for use with the word2vec package, which allows us to explore the word embeddings easily.  "
   ]
  },
  {
   "cell_type": "code",
   "execution_count": 0,
   "metadata": {
    "colab": {},
    "colab_type": "code",
    "id": "onA6r0XO4kR0"
   },
   "outputs": [],
   "source": [
    "def save_weights(model, vocab_size=V, dim=dim, filename='vectorsCB.txt'):\n",
    "  f = open(filename ,'w')\n",
    "  f.write('{} {}\\n'.format(vocab_size-1, dim))\n",
    "  vectors = model.get_weights()[0]\n",
    "  for i in range(1,vocab_size):\n",
    "      str_vec = ' '.join(map(str, list(vectors[i, :])))\n",
    "      word = WIM.ind_to_string(i)\n",
    "      f.write('{} {}\\n'.format(word, str_vec))\n",
    "  f.close()\n",
    "  return vectors"
   ]
  },
  {
   "cell_type": "markdown",
   "metadata": {
    "colab_type": "text",
    "id": "dHX3tZsHQBSe"
   },
   "source": [
    "## TODO:  \n",
    "Construct a CBOW model called cbow.   Use dim as the embedding dimension. The final layer should be a softmax activation onto the size of the vocabulary.  Use categorical crossentropy.  Use the cbow.summary() function to display the result.  "
   ]
  },
  {
   "cell_type": "code",
   "execution_count": 0,
   "metadata": {
    "colab": {},
    "colab_type": "code",
    "id": "SkjxHTsQUHwS"
   },
   "outputs": [],
   "source": [
    "cbow = # ** YOUR CODE HERE **\n",
    "\n",
    "cbow.summary()"
   ]
  },
  {
   "cell_type": "markdown",
   "metadata": {
    "colab_type": "text",
    "id": "fZ6106a6z0CJ"
   },
   "source": [
    "Save the untrained weights for comparison.  "
   ]
  },
  {
   "cell_type": "code",
   "execution_count": 0,
   "metadata": {
    "colab": {},
    "colab_type": "code",
    "id": "1fL7OSQI4t71"
   },
   "outputs": [],
   "source": [
    "weightsUT = save_weights(cbow, filename='untrainedCB.txt')"
   ]
  },
  {
   "cell_type": "markdown",
   "metadata": {
    "colab_type": "text",
    "id": "P3zQyeaV0YyM"
   },
   "source": [
    "Train the model"
   ]
  },
  {
   "cell_type": "code",
   "execution_count": 0,
   "metadata": {
    "colab": {},
    "colab_type": "code",
    "id": "NmLgYkF2zzdI"
   },
   "outputs": [],
   "source": [
    "\n",
    "val_steps = 100\n",
    "\n",
    "history = cbow.fit_generator(train_gen,\n",
    "                              steps_per_epoch=1500,\n",
    "                              epochs=30,\n",
    "                              validation_data=val_gen,\n",
    "                              validation_steps=val_steps)"
   ]
  },
  {
   "cell_type": "markdown",
   "metadata": {
    "colab_type": "text",
    "id": "3fttj_3V19dT"
   },
   "source": [
    "Plot the training"
   ]
  },
  {
   "cell_type": "code",
   "execution_count": 0,
   "metadata": {
    "colab": {},
    "colab_type": "code",
    "id": "3yQVXlfJ18CL"
   },
   "outputs": [],
   "source": [
    "import matplotlib.pyplot as plt\n",
    "\n",
    "loss = history.history['loss']\n",
    "val_loss = history.history['val_loss']\n",
    "\n",
    "epochs = range(len(loss))\n",
    "\n",
    "plt.figure()\n",
    "\n",
    "plt.plot(epochs, loss, 'bo', label='Training loss')\n",
    "plt.plot(epochs, val_loss, 'b', label='Validation loss')\n",
    "plt.title('Training and validation loss')\n",
    "plt.legend()\n",
    "\n",
    "plt.show()"
   ]
  },
  {
   "cell_type": "markdown",
   "metadata": {
    "colab_type": "text",
    "id": "TS7Ww0MHQBSl"
   },
   "source": [
    "Save the trained dictionary"
   ]
  },
  {
   "cell_type": "code",
   "execution_count": 0,
   "metadata": {
    "colab": {},
    "colab_type": "code",
    "id": "Iwo7N4945ou1"
   },
   "outputs": [],
   "source": [
    "weights = save_weights(cbow, filename='vectorsCB.txt')"
   ]
  },
  {
   "cell_type": "markdown",
   "metadata": {
    "colab_type": "text",
    "id": "WC6kdVcQ0jEc"
   },
   "source": [
    "Load the word embeddings and compare trained and untrained embeddings.  "
   ]
  },
  {
   "cell_type": "code",
   "execution_count": 0,
   "metadata": {
    "colab": {},
    "colab_type": "code",
    "id": "A2dmpE7QiNtL"
   },
   "outputs": [],
   "source": [
    "\n",
    "import gensim\n",
    "w2vUT = gensim.models.KeyedVectors.load_word2vec_format('./untrainedCB.txt', binary=False)\n",
    "w2vT = gensim.models.KeyedVectors.load_word2vec_format('./vectorsCB.txt', binary=False)\n",
    "\n",
    "def print_similarities(word, w2vUT=w2vUT, w2vT=w2vT):\n",
    "  print('Nearest words and similarities to \"' + word + '\" ')\n",
    "  print('Untrained similarities\\tTrained similarities\\n')\n",
    "  for item1, item2 in zip(w2vUT.most_similar(positive=[word]), w2vT.most_similar(positive=[word])):\n",
    "    print(\"{:10s}\".format(item1[0]) + ', ' + \"{:.2f}\".format(item1[1]) + '\\t' \n",
    "          + \"{:10s}\".format(item2[0]) + ', ' + \"{:.2f}\".format(item2[1]))\n",
    "  print(' ')\n",
    "\n",
    "print_similarities('movie')"
   ]
  },
  {
   "cell_type": "code",
   "execution_count": 0,
   "metadata": {
    "colab": {},
    "colab_type": "code",
    "id": "EblmaGqr-REh"
   },
   "outputs": [],
   "source": [
    "print_similarities('film')"
   ]
  },
  {
   "cell_type": "code",
   "execution_count": 0,
   "metadata": {
    "colab": {},
    "colab_type": "code",
    "id": "Jh-T5L7b53Cg"
   },
   "outputs": [],
   "source": [
    "print_similarities('role')\n"
   ]
  },
  {
   "cell_type": "code",
   "execution_count": 0,
   "metadata": {
    "colab": {},
    "colab_type": "code",
    "id": "I2Z9le_MGLKL"
   },
   "outputs": [],
   "source": [
    "print('Word pair similarity')\n",
    "print('\\t\\t\\tUntrained\\tTrained')\n",
    "print('film and movie: \\t' + \"{:.2f}\".format(w2vUT.similarity('film', 'movie')) \n",
    "      + '\\t\\t' + \"{:.2f}\".format(w2vT.similarity('film', 'movie')))\n",
    "print('man and woman:   \\t' + \"{:.2f}\".format(w2vUT.similarity('man', 'woman')) \n",
    "      + '\\t\\t' + \"{:.2f}\".format(w2vT.similarity('man', 'woman')))\n",
    "print('plot and talent: \\t' + \"{:.2f}\".format(w2vUT.similarity('plot', 'talent')) \n",
    "      + '\\t\\t' + \"{:.2f}\".format(w2vT.similarity('plot', 'talent')))\n",
    "\n",
    "print(' ')"
   ]
  },
  {
   "cell_type": "markdown",
   "metadata": {
    "colab_type": "text",
    "id": "6e8HEnIgF8y9"
   },
   "source": [
    "Use TSNE to plot the two primary component of the embedding.  "
   ]
  },
  {
   "cell_type": "code",
   "execution_count": 0,
   "metadata": {
    "colab": {},
    "colab_type": "code",
    "id": "TkatQnWtF8YF"
   },
   "outputs": [],
   "source": [
    "from sklearn.manifold import TSNE\n",
    "import plotly.offline as py\n",
    "import plotly.graph_objs as go\n",
    "\n",
    "number_of_words = 1000\n",
    "\n",
    "X_embedded = TSNE(n_components=2).fit_transform(weights[0:number_of_words])\n",
    "word_list = WIM.create_word_list(range(number_of_words))\n",
    "\n",
    "\n",
    "trace = go.Scatter(\n",
    "    x = X_embedded[0:number_of_words,0], \n",
    "    y = X_embedded[0:number_of_words, 1],\n",
    "    mode = 'markers',\n",
    "    text= word_list[0:number_of_words]\n",
    ")\n",
    "\n",
    "layout = dict(title= 'Trained t-SNE 1 vs t-SNE 2 for first 1000 words ',\n",
    "              yaxis = dict(title='t-SNE 2'),\n",
    "              xaxis = dict(title='t-SNE 1'),\n",
    "              hovermode= 'closest')\n",
    "\n",
    "fig = dict(data = [trace], layout= layout)"
   ]
  },
  {
   "cell_type": "code",
   "execution_count": 0,
   "metadata": {
    "colab": {},
    "colab_type": "code",
    "id": "cT5HU0unGFUP"
   },
   "outputs": [],
   "source": [
    "def configure_plotly_browser_state():\n",
    "  import IPython\n",
    "  display(IPython.core.display.HTML('''\n",
    "        <script src=\"/static/components/requirejs/require.js\"></script>\n",
    "        <script>\n",
    "          requirejs.config({\n",
    "            paths: {\n",
    "              base: '/static/base',\n",
    "              plotly: 'https://cdn.plot.ly/plotly-latest.min.js?noext',\n",
    "            },\n",
    "          });\n",
    "        </script>\n",
    "        '''))\n",
    "  \n",
    "configure_plotly_browser_state()  \n",
    "\n",
    "py.init_notebook_mode()\n",
    "py.iplot(fig)"
   ]
  },
  {
   "cell_type": "code",
   "execution_count": 0,
   "metadata": {
    "colab": {},
    "colab_type": "code",
    "id": "Bf5ghfJkGI7O"
   },
   "outputs": [],
   "source": [
    "X_embedded = TSNE(n_components=2).fit_transform(weightsUT[0:number_of_words])\n",
    "word_list = WIM.create_word_list(range(number_of_words))\n",
    "\n",
    "\n",
    "trace = go.Scatter(\n",
    "    x = X_embedded[0:number_of_words,0], \n",
    "    y = X_embedded[0:number_of_words, 1],\n",
    "    mode = 'markers',\n",
    "    text= word_list[0:number_of_words]\n",
    ")\n",
    "\n",
    "layout = dict(title= 'Untrained t-SNE 1 vs t-SNE 2 for first 1000 words ',\n",
    "              yaxis = dict(title='t-SNE 2'),\n",
    "              xaxis = dict(title='t-SNE 1'),\n",
    "              hovermode= 'closest')\n",
    "\n",
    "fig = dict(data = [trace], layout= layout)"
   ]
  },
  {
   "cell_type": "code",
   "execution_count": 0,
   "metadata": {
    "colab": {},
    "colab_type": "code",
    "id": "u8wtABZfGMRX"
   },
   "outputs": [],
   "source": [
    "configure_plotly_browser_state()  \n",
    "\n",
    "py.init_notebook_mode()\n",
    "py.iplot(fig)"
   ]
  }
 ],
 "metadata": {
  "accelerator": "GPU",
  "colab": {
   "collapsed_sections": [],
   "name": "Copy of CBOW_template.ipynb",
   "provenance": [
    {
     "file_id": "1limyu1OgdQBdEH7NINVlpwCtbBuWeS7z",
     "timestamp": 1552062058403
    },
    {
     "file_id": "1OyGv4MWZ3X6ZmndPIzjuV74Xn5VZr8US",
     "timestamp": 1552009798387
    },
    {
     "file_id": "17tPgWRj2GUfHyBv5CinrbDG5KEk5oMlm",
     "timestamp": 1551488342397
    }
   ],
   "version": "0.3.2"
  },
  "kernelspec": {
   "display_name": "Python 3",
   "language": "python",
   "name": "python3"
  },
  "language_info": {
   "codemirror_mode": {
    "name": "ipython",
    "version": 3
   },
   "file_extension": ".py",
   "mimetype": "text/x-python",
   "name": "python",
   "nbconvert_exporter": "python",
   "pygments_lexer": "ipython3",
   "version": "3.6.7"
  }
 },
 "nbformat": 4,
 "nbformat_minor": 1
}
